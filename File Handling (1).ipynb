{
 "cells": [
  {
   "cell_type": "markdown",
   "metadata": {},
   "source": [
    "# File Handling"
   ]
  },
  {
   "cell_type": "markdown",
   "metadata": {},
   "source": [
    "# Working of open() function\n",
    "\n",
    "# Before performing any operation on the file like reading or writing, first, we have to open that file.\n",
    "\n",
    "# For this, we should use Python’s inbuilt function open() but at the time of opening, we have to specify the mode, which represents the purpose of the opening file."
   ]
  },
  {
   "cell_type": "markdown",
   "metadata": {},
   "source": [
    "f = open(\"test.txt\")    # open file in current directory\n",
    "\n",
    "f = open(\"C:/Python38/README.txt\")  # specifying full path"
   ]
  },
  {
   "cell_type": "markdown",
   "metadata": {},
   "source": [
    "when working with files in text mode, it is highly recommended to specify the encoding type.\n",
    "\n",
    "f = open(\"test.txt\", mode='r')\n"
   ]
  },
  {
   "cell_type": "markdown",
   "metadata": {},
   "source": [
    "# Working of open() function\n",
    "\n",
    "* Before performing any operation on the file like reading or writing, first, we have to open that file. \n",
    "* For this, we should use Python’s inbuilt function open() but at the time of opening, we have to specify the mode, which represents the purpose of the opening file."
   ]
  },
  {
   "cell_type": "markdown",
   "metadata": {},
   "source": [
    "* r: open an existing file for a read operation.\n",
    "* w: open an existing file for a write operation. If the file already contains some data then it will be overridden.\n",
    "* a:  open an existing file for append operation. It won’t override existing data.\n",
    "* r+:  To read and write data into the file. The previous data in the file will be overridden.\n",
    "* w+: To write and read data. It will override existing data.\n",
    "* a+: To append and read data from the file. It won’t override existing data."
   ]
  },
  {
   "cell_type": "code",
   "execution_count": 4,
   "metadata": {},
   "outputs": [
    {
     "data": {
      "text/plain": [
       "13"
      ]
     },
     "execution_count": 4,
     "metadata": {},
     "output_type": "execute_result"
    }
   ],
   "source": [
    "f = open(\"Python.txt\",\"w\")\n",
    "f.write(\"Python is awesome\")\n",
    "f.write(\"I love python\")\n",
    "\n"
   ]
  },
  {
   "cell_type": "code",
   "execution_count": 2,
   "metadata": {},
   "outputs": [
    {
     "data": {
      "text/plain": [
       "13"
      ]
     },
     "execution_count": 2,
     "metadata": {},
     "output_type": "execute_result"
    }
   ],
   "source": [
    "f = open(\"Python1.txt\",\"w\")\n",
    "f.write(\"Python is awesome\\n\")\n",
    "f.write(\"I love python\")"
   ]
  },
  {
   "cell_type": "code",
   "execution_count": 3,
   "metadata": {},
   "outputs": [
    {
     "name": "stdout",
     "output_type": "stream",
     "text": [
      "Python is awesomeI love python\n"
     ]
    }
   ],
   "source": [
    "f1 = open(\"Python.txt\",\"r\")\n",
    "print(f1.read())\n"
   ]
  },
  {
   "cell_type": "code",
   "execution_count": 5,
   "metadata": {},
   "outputs": [
    {
     "name": "stdout",
     "output_type": "stream",
     "text": [
      "Python is awesome\n",
      "I love python\n"
     ]
    }
   ],
   "source": [
    "f2  = open(\"Python1.txt\",\"r\")\n",
    "print(f2.read())\n"
   ]
  },
  {
   "cell_type": "code",
   "execution_count": 6,
   "metadata": {},
   "outputs": [
    {
     "data": {
      "text/plain": [
       "43"
      ]
     },
     "execution_count": 6,
     "metadata": {},
     "output_type": "execute_result"
    }
   ],
   "source": [
    "f3 = open(\"Python1.txt\",\"a\")\n",
    "f3.write(\"Python is my favourite programming language\")"
   ]
  },
  {
   "cell_type": "code",
   "execution_count": null,
   "metadata": {},
   "outputs": [],
   "source": []
  },
  {
   "cell_type": "markdown",
   "metadata": {},
   "source": [
    "###  Write a function in python to read the content from a text file and display the same on screen."
   ]
  },
  {
   "cell_type": "code",
   "execution_count": 7,
   "metadata": {},
   "outputs": [
    {
     "name": "stdout",
     "output_type": "stream",
     "text": [
      "Python is awesome\n",
      "I love python"
     ]
    }
   ],
   "source": [
    "def read_file():\n",
    "    file = open(\"Python1.txt\",\"r\")\n",
    "    for line in file:\n",
    "        print(line, end=\"\")\n",
    "    file.close()\n",
    "\n",
    "read_file()"
   ]
  },
  {
   "cell_type": "markdown",
   "metadata": {},
   "source": [
    "* Append Only (‘a’): Open the file for writing.\n",
    "* Append and Read (‘a+’): Open the file for reading and writing."
   ]
  },
  {
   "cell_type": "code",
   "execution_count": 14,
   "metadata": {},
   "outputs": [
    {
     "name": "stdout",
     "output_type": "stream",
     "text": [
      "Output of Readlines after appending\n",
      "This is Me \n",
      "This is You \n",
      "This is All We NeedToday \n",
      "\n",
      "\n",
      "Output of Readlines after writing\n",
      "Tomorrow \n",
      "\n",
      "\n"
     ]
    }
   ],
   "source": [
    "file1 = open(\"myfile.txt\", \"w\")\n",
    "L = [\"This is Me \\n\", \"This is You \\n\", \"This is All We Need\"]\n",
    "file1.writelines(L)\n",
    "file1.close()\n",
    "\n",
    "# Append-adds at last\n",
    "file1 = open(\"myfile.txt\", \"a\") # append mode\n",
    "file1.write(\"Today \\n\")\n",
    "file1.close()\n",
    "\n",
    "file1 = open(\"myfile.txt\", \"r\")\n",
    "print(\"Output of Readlines after appending\")\n",
    "print(file1.read())\n",
    "print()\n",
    "file1.close()\n",
    "\n",
    "# Write-Overwrites\n",
    "file1 = open(\"myfile.txt\", \"w\") # write mode\n",
    "file1.write(\"Tomorrow \\n\")\n",
    "file1.close()\n",
    "\n",
    "file1 = open(\"myfile.txt\", \"r\")\n",
    "print(\"Output of Readlines after writing\")\n",
    "print(file1.read())\n",
    "print()\n",
    "file1.close()\n"
   ]
  },
  {
   "cell_type": "code",
   "execution_count": 12,
   "metadata": {},
   "outputs": [
    {
     "name": "stdout",
     "output_type": "stream",
     "text": [
      "Python is my favourite programming languagePython is my favourite programming language\n"
     ]
    }
   ],
   "source": [
    "f3 = open(\"Python1.txt\",\"r\")\n",
    "\n",
    "print(f3.read())\n",
    "f3.close()"
   ]
  },
  {
   "cell_type": "code",
   "execution_count": 8,
   "metadata": {},
   "outputs": [
    {
     "ename": "SyntaxError",
     "evalue": "unexpected EOF while parsing (<ipython-input-8-f9c24e5b4008>, line 1)",
     "output_type": "error",
     "traceback": [
      "\u001b[1;36m  File \u001b[1;32m\"<ipython-input-8-f9c24e5b4008>\"\u001b[1;36m, line \u001b[1;32m1\u001b[0m\n\u001b[1;33m    print(f3.read()\u001b[0m\n\u001b[1;37m                   ^\u001b[0m\n\u001b[1;31mSyntaxError\u001b[0m\u001b[1;31m:\u001b[0m unexpected EOF while parsing\n"
     ]
    }
   ],
   "source": [
    "print(f3.read()"
   ]
  },
  {
   "cell_type": "code",
   "execution_count": 9,
   "metadata": {},
   "outputs": [],
   "source": [
    "f1.close() "
   ]
  },
  {
   "cell_type": "code",
   "execution_count": 11,
   "metadata": {},
   "outputs": [],
   "source": [
    "f2.close()"
   ]
  },
  {
   "cell_type": "code",
   "execution_count": 15,
   "metadata": {},
   "outputs": [],
   "source": [
    "f3.close()"
   ]
  },
  {
   "cell_type": "markdown",
   "metadata": {},
   "source": [
    "Another method to write code:\n",
    "\n",
    "with open(\"test.txt\", encoding = 'utf-8') as f:\n",
    "\n",
    "   #perform file operations\n"
   ]
  },
  {
   "cell_type": "code",
   "execution_count": 15,
   "metadata": {},
   "outputs": [],
   "source": [
    "import os"
   ]
  },
  {
   "cell_type": "code",
   "execution_count": 16,
   "metadata": {},
   "outputs": [
    {
     "data": {
      "text/plain": [
       "'C:\\\\Users\\\\AKSHAY'"
      ]
     },
     "execution_count": 16,
     "metadata": {},
     "output_type": "execute_result"
    }
   ],
   "source": [
    "os.getcwd()"
   ]
  },
  {
   "cell_type": "code",
   "execution_count": 17,
   "metadata": {},
   "outputs": [
    {
     "name": "stdout",
     "output_type": "stream",
     "text": [
      "C:\\Users\\AKSHAY\n"
     ]
    }
   ],
   "source": [
    "print(os.getcwd())#remove extra backslash"
   ]
  },
  {
   "cell_type": "code",
   "execution_count": 18,
   "metadata": {},
   "outputs": [
    {
     "ename": "FileNotFoundError",
     "evalue": "[WinError 3] The system cannot find the path specified: 'F:\\\\'",
     "output_type": "error",
     "traceback": [
      "\u001b[1;31m---------------------------------------------------------------------------\u001b[0m",
      "\u001b[1;31mFileNotFoundError\u001b[0m                         Traceback (most recent call last)",
      "\u001b[1;32m<ipython-input-18-32356ae3905e>\u001b[0m in \u001b[0;36m<module>\u001b[1;34m\u001b[0m\n\u001b[1;32m----> 1\u001b[1;33m \u001b[0mos\u001b[0m\u001b[1;33m.\u001b[0m\u001b[0mchdir\u001b[0m\u001b[1;33m(\u001b[0m\u001b[1;34m'F:\\\\'\u001b[0m\u001b[1;33m)\u001b[0m\u001b[1;33m\u001b[0m\u001b[1;33m\u001b[0m\u001b[0m\n\u001b[0m",
      "\u001b[1;31mFileNotFoundError\u001b[0m: [WinError 3] The system cannot find the path specified: 'F:\\\\'"
     ]
    }
   ],
   "source": [
    "os.chdir('F:\\\\')"
   ]
  },
  {
   "cell_type": "code",
   "execution_count": 7,
   "metadata": {},
   "outputs": [
    {
     "name": "stdout",
     "output_type": "stream",
     "text": [
      "F:\\\n"
     ]
    }
   ],
   "source": [
    "print(os.getcwd())"
   ]
  },
  {
   "cell_type": "code",
   "execution_count": 19,
   "metadata": {},
   "outputs": [
    {
     "data": {
      "text/plain": [
       "['.anaconda',\n",
       " '.android',\n",
       " '.astropy',\n",
       " '.bash_history',\n",
       " '.btfs',\n",
       " '.conda',\n",
       " '.condarc',\n",
       " '.continuum',\n",
       " '.git',\n",
       " '.ipynb_checkpoints',\n",
       " '.ipython',\n",
       " '.jupyter',\n",
       " '.keras',\n",
       " '.matplotlib',\n",
       " '.spyder-py3',\n",
       " '1',\n",
       " '18 feb 2021.ipynb',\n",
       " '19 march numpii.ipynb',\n",
       " '2',\n",
       " '2 nd jan LR.ipynb',\n",
       " '3D Objects',\n",
       " '5_6177016201261089905.ipynb',\n",
       " '6 feb 2022.ipynb',\n",
       " '6. Fifa Dataset.ipynb',\n",
       " '8 th may.ipynb',\n",
       " 'AAAAA.ipynb',\n",
       " 'access.en-us',\n",
       " 'admin',\n",
       " 'AKSHAY - Shortcut.lnk',\n",
       " 'Akshay Chaskar unsupervised learning.ipynb',\n",
       " 'akshay first crelation program.ipynb',\n",
       " 'Amazon Review Classification.ipynb',\n",
       " 'amazonReview.csv',\n",
       " 'AppData',\n",
       " 'Application Data',\n",
       " 'archive (6).zip',\n",
       " 'athlete_events.csv',\n",
       " 'athlete_events.csv.zip',\n",
       " 'autoencoder_fraud.h5',\n",
       " 'autorun.inf',\n",
       " 'BA FINAL CODE',\n",
       " 'babies.xlsx',\n",
       " 'bank.csv',\n",
       " 'Basic of python_3_pandas.ipynb',\n",
       " 'Basics of Python_1.ipynb',\n",
       " 'Basics of python_2.ipynb',\n",
       " 'Basics....ipynb',\n",
       " 'BBBB.ipynb',\n",
       " 'beginner.ipynb',\n",
       " 'Book1.xlsx',\n",
       " 'Car Price (Linear Regression).ipynb',\n",
       " 'CarPrice_Assignment (1).csv',\n",
       " 'CarPrice_Assignment.csv',\n",
       " 'Car_Price_Prediction_Problem.ipynb',\n",
       " 'catalog',\n",
       " 'Catalogs.xlsx',\n",
       " 'chennai_reservoir_levels.csv',\n",
       " 'chennai_reservoir_rainfall.csv',\n",
       " 'Churn (ANN).ipynb',\n",
       " 'Churn_Modelling.csv',\n",
       " 'Cleaned_POS_Medical_Notes.csv',\n",
       " 'Clustering (1).docx',\n",
       " 'Codes',\n",
       " 'Contacts',\n",
       " 'Control Flow (Python).ipynb',\n",
       " 'Control Flow Practise Questions..-Copy1.ipynb',\n",
       " 'Control Flow Practise Questions...ipynb',\n",
       " 'Cookies',\n",
       " 'Covid 19 .ipynb',\n",
       " 'Covid 19 submission (1).ipynb',\n",
       " 'Covid 19 submission (2).ipynb',\n",
       " 'Covid 19 submission (3).ipynb',\n",
       " 'covid.csv',\n",
       " 'creditcard.csv',\n",
       " 'creditcard.csv.zip',\n",
       " 'credit_card.csv',\n",
       " 'Data',\n",
       " 'Data Science',\n",
       " 'Data Science.rar',\n",
       " 'Dataset',\n",
       " 'Dataset.zip',\n",
       " 'Datasets',\n",
       " 'Data_Dictionary.xlsx',\n",
       " 'dcf.en-us',\n",
       " 'Deck_BA.pdf',\n",
       " 'Deep Learning (Nettech)',\n",
       " 'Description.xlsx',\n",
       " 'Desktop',\n",
       " 'Documents',\n",
       " 'Download Free Software.url',\n",
       " 'Downloads',\n",
       " 'Dropbox',\n",
       " 'EDA -1(project)--v2.ipynb',\n",
       " 'ERROR HANDLING.ipynb',\n",
       " 'excel.en-us',\n",
       " 'Exercise 7-Pandas Basics.ipynb',\n",
       " 'Exploratory Data Analysis ppt.pptx',\n",
       " 'extract email from text.ipynb',\n",
       " 'Favorites',\n",
       " 'FIFA ranking prediction using linear regression..ipynb',\n",
       " 'FIFA_overall.ipynb',\n",
       " 'File Hnadling.ipynb',\n",
       " 'FOR LOOP.ipynb',\n",
       " 'Fpython Q-1assignment 1.ipynb',\n",
       " 'Fpython Q1-1.ipynb',\n",
       " 'Fpython Q1-2 (1).ipynb',\n",
       " 'Functions.ipynb',\n",
       " 'GL_Assignment_Online_Retail.xlsx',\n",
       " 'GRIDSEARCH and RANDOMIZESEARCHCV (1).ipynb',\n",
       " 'groove.en-us',\n",
       " 'HANDLING JSON DATA.ipynb',\n",
       " 'heart.csv',\n",
       " 'hotfixes',\n",
       " 'House Price Prediction.ipynb',\n",
       " 'ICU prediction for Covid patients.ipynb',\n",
       " 'igetintopc.com.jpg',\n",
       " 'Imarticus',\n",
       " 'IMDB Dataset.csv',\n",
       " 'IMDB dataset.ipynb',\n",
       " 'IMDB Movies Case Study.ipynb',\n",
       " 'IMDB_Movies.csv',\n",
       " 'Infinite Practice.ipynb',\n",
       " 'infopath.en-us',\n",
       " 'IntelGraphicsProfiles',\n",
       " 'Introduction to Pandas.ipynb',\n",
       " 'IPL Auction 2022.ipynb',\n",
       " 'IPL2022PlayerAuction_List_Sets-converted.xlsx',\n",
       " 'iqr.txt',\n",
       " 'Iris.csv',\n",
       " 'Just Practice!!!!!.ipynb',\n",
       " 'K means clustering.ipynb',\n",
       " 'K Nearest Neighbors (1).ipynb',\n",
       " 'k-MEANS CLUSTERING.ipynb',\n",
       " 'K-Means Wholesale Data.ipynb',\n",
       " 'Keywords in Python.ipynb',\n",
       " 'kiran.ipynb',\n",
       " 'kkn.txt',\n",
       " 'Linear Regression.txt',\n",
       " 'Links',\n",
       " 'links_small.csv',\n",
       " 'loan.csv',\n",
       " 'Local Settings',\n",
       " 'Logistic Regression - Case Study.ipynb',\n",
       " 'Logistic Regression and Classification Metrics (1).ipynb',\n",
       " 'Logistic Regression and Classification Metrics.ipynb',\n",
       " 'Logistic Regression SMOTE.ipynb',\n",
       " 'logs',\n",
       " 'lync.en-us',\n",
       " 'Machine Learning (Nettech)',\n",
       " 'Machine Learning Exam Paper 1',\n",
       " 'Machine Learning using Python Exam - Paper 1.pdf',\n",
       " 'Machine Learning using Python Exam -Paper 2.pdf',\n",
       " 'MachineLearningExamPaper1withdataset.zip',\n",
       " 'Mall_Customers (1).csv',\n",
       " 'Mall_Customers.csv',\n",
       " 'MicrosoftEdgeBackups',\n",
       " 'ML_Exam_Paper_1_Akshay_Chaskar.ipynb',\n",
       " 'ML_Exam_Paper_1_Karthik_Konar.ipynb',\n",
       " 'MonthWiseMarketArrivals_Clean (1).csv',\n",
       " 'MonthWiseMarketArrivals_Clean.csv',\n",
       " 'MORPHOLOGICAL ANALYSIS.ipynb',\n",
       " 'movies_metadata.csv',\n",
       " 'ms123',\n",
       " 'Music',\n",
       " 'My Documents',\n",
       " 'N-GRAM MODEL.ipynb',\n",
       " 'Natural Language Processing (NLP) with Python — Tutorial.docx',\n",
       " 'Netech Day 4.ipynb',\n",
       " 'NetflixOriginals.csv',\n",
       " 'NetHood',\n",
       " 'Nettech  (Day2)-Copy1.ipynb',\n",
       " 'Nettech  (Day2).ipynb',\n",
       " 'Nettech (Day1)-Copy1.ipynb',\n",
       " 'Nettech (Day1).ipynb',\n",
       " 'Nettech (Day3)-Copy1.ipynb',\n",
       " 'Nettech (Day3).ipynb',\n",
       " 'NLP PRACTICALS',\n",
       " 'NLP PRACTICALS.rar',\n",
       " 'NLP-overview.pdf',\n",
       " 'noc_regions.csv',\n",
       " 'Novel - Moby-Dick By Herman Melville.txt',\n",
       " 'NTUSER.DAT',\n",
       " 'ntuser.dat.LOG1',\n",
       " 'ntuser.dat.LOG2',\n",
       " 'NTUSER.DAT{c082ccce-d5f7-11ec-af26-a9245c1b9525}.TM.blf',\n",
       " 'NTUSER.DAT{c082ccce-d5f7-11ec-af26-a9245c1b9525}.TMContainer00000000000000000001.regtrans-ms',\n",
       " 'NTUSER.DAT{c082ccce-d5f7-11ec-af26-a9245c1b9525}.TMContainer00000000000000000002.regtrans-ms',\n",
       " 'ntuser.ini',\n",
       " 'Numpy.ipynb',\n",
       " 'office.en-us',\n",
       " 'office32.en-us',\n",
       " 'Olympic  Dataset Analysis.ipynb',\n",
       " 'OneDrive',\n",
       " 'onenote.en-us',\n",
       " 'OOPS.ipynb',\n",
       " 'osm.en-us',\n",
       " 'osmux.en-us',\n",
       " 'outlook.en-us',\n",
       " 'pandas practise .html',\n",
       " 'Pandas.ipynb',\n",
       " 'PCA Use Case.ipynb',\n",
       " 'PGAA 1&2 KMeans Refresher.ipynb',\n",
       " 'PGAA LECT 2(PYTHON).ipynb',\n",
       " 'PGAA1- Kmeans Clustering.ipynb',\n",
       " 'Pictures',\n",
       " 'playerdata.csv',\n",
       " 'Player_LinearModelPractice.ipynb',\n",
       " 'powerpoint.en-us',\n",
       " 'PREPROCESSING OF TEXT.ipynb',\n",
       " 'PRETTY PRINT PROGRAM.ipynb',\n",
       " 'PrintHood',\n",
       " 'problem 2_insulgas.ipynb',\n",
       " 'proofing.en-us',\n",
       " 'proplus.ww',\n",
       " 'PRSA_data_2010.1.1-2014.12.31.csv',\n",
       " 'publisher.en-us',\n",
       " 'Pushkar Khedkar unsupervised learning.ipynb',\n",
       " 'python assignment 1(Akshay).ipynb',\n",
       " 'python begining.ipynb',\n",
       " 'Python NLTK Tutorial 1.pdf',\n",
       " 'Python Practice....ipynb',\n",
       " 'Python Practice...ipynb',\n",
       " 'Python Progamming (1).pdf',\n",
       " 'Python Programs',\n",
       " 'python-data-structures-01-DICT.ipynb',\n",
       " 'python-data-structures-02-LIST.ipynb',\n",
       " 'python-data-structures-03-SETS.ipynb',\n",
       " 'python-data-structures-04-STRINGS.ipynb',\n",
       " 'python-data-structures-05-TUPLES.ipynb',\n",
       " 'Python.txt',\n",
       " 'Python1.txt',\n",
       " 'ratings_small.csv',\n",
       " 'readme.htm',\n",
       " 'Read_Me_Important.txt',\n",
       " 'Recent',\n",
       " 'reffmaterial.zip',\n",
       " 'Regularization in Linear Regression (2).ipynb',\n",
       " 'REMOVE STOPWORDS.ipynb',\n",
       " 'Request Your Applications here.url',\n",
       " 'results.zip',\n",
       " 'Salary_Data.csv',\n",
       " 'Saved Games',\n",
       " 'SEABORN .ipynb',\n",
       " 'SEABORN TUTORIAL.ipynb',\n",
       " 'seaborn-data',\n",
       " 'Searches',\n",
       " 'SendTo',\n",
       " 'setup.dll',\n",
       " 'setup.exe',\n",
       " 'Sheet Merging.ipynb',\n",
       " 'SL-PDS-DEC8JAN12-STRINGS-LISTS-TUPLES-DICTIONARIES-SETS.ipynb',\n",
       " 'Stanford Police Data.ipynb',\n",
       " 'Start Menu',\n",
       " 'Stock 19-2-22.ipynb',\n",
       " 'stock_prediction.h5',\n",
       " 'Stock_Price_Prediction_AAPL_data.csv',\n",
       " 'String  Operations.ipynb',\n",
       " 'svm_classification.ipynb',\n",
       " 'SVM_Classification_Regression-main.zip',\n",
       " 'svr_regression.ipynb',\n",
       " 'TANVI_TIMESERIES(ML2).ipynb',\n",
       " 'Templates',\n",
       " 'Test.png',\n",
       " 'test_bqCt9Pv.csv',\n",
       " 'The Android App Market on Google Play.ipynb',\n",
       " 'Time Series Exam Solution.ipynb',\n",
       " 'Time Series Model (Akshay Chaskar).ipynb',\n",
       " 'TOKENIZATION.ipynb',\n",
       " 'Top 20 functions of pandas.ipynb',\n",
       " 'train.csv',\n",
       " 'training_tokenizer.txt',\n",
       " 'Unsupervised Learning Exam Solution.ipynb',\n",
       " 'Untitled.ipynb',\n",
       " 'Untitled1.ipynb',\n",
       " 'Untitled1.py',\n",
       " 'Untitled10.ipynb',\n",
       " 'Untitled11.ipynb',\n",
       " 'Untitled12.ipynb',\n",
       " 'Untitled13.ipynb',\n",
       " 'Untitled2.ipynb',\n",
       " 'Untitled3.ipynb',\n",
       " 'Untitled4.ipynb',\n",
       " 'Untitled5.ipynb',\n",
       " 'Untitled6.ipynb',\n",
       " 'Untitled7.ipynb',\n",
       " 'Untitled8.ipynb',\n",
       " 'Untitled9.ipynb',\n",
       " 'updates',\n",
       " 'UPPER_LOWER CASE PROGRAM.ipynb',\n",
       " 'Vehicle Loan Classification (1).ipynb',\n",
       " 'Vehicle Loan Sir.ipynb',\n",
       " 'Vehicle_classification .ipynb',\n",
       " 'Videos',\n",
       " 'vik.py',\n",
       " 'Webscraping.ipynb',\n",
       " 'word.en-us',\n",
       " 'zoom_0 (1).mp4',\n",
       " '[CourseClub.ME] AppliedAICourse - Applied Machine Learning Course',\n",
       " '_igetintopc.com_fix',\n",
       " '_PANDAS_🐼_1586896031.pdf',\n",
       " '__notebook_source__.ipynb',\n",
       " '__results___files']"
      ]
     },
     "execution_count": 19,
     "metadata": {},
     "output_type": "execute_result"
    }
   ],
   "source": [
    "os.listdir()"
   ]
  },
  {
   "cell_type": "code",
   "execution_count": 9,
   "metadata": {},
   "outputs": [
    {
     "data": {
      "text/plain": [
       "['$RECYCLE.BIN',\n",
       " 'ANACONDA',\n",
       " 'ASIM TRIVEDI AUDIT',\n",
       " 'Audit',\n",
       " 'd bk up',\n",
       " 'DumpStack.log.tmp',\n",
       " 'Financial reporting',\n",
       " 'hp',\n",
       " 'Intel',\n",
       " 'khoth siddhesh',\n",
       " 'law',\n",
       " 'NetTech India',\n",
       " 'New Folder',\n",
       " 'open cv',\n",
       " 'ORACLE',\n",
       " 'OS module.py',\n",
       " 'Python ML Notes',\n",
       " 'Rahul malkan',\n",
       " 'Sanvee',\n",
       " 'SFM_Sarraf',\n",
       " 'System Volume Information',\n",
       " 'Users']"
      ]
     },
     "execution_count": 9,
     "metadata": {},
     "output_type": "execute_result"
    }
   ],
   "source": [
    "os.listdir('D:\\\\')"
   ]
  },
  {
   "cell_type": "code",
   "execution_count": 20,
   "metadata": {},
   "outputs": [],
   "source": [
    "os.mkdir('test')"
   ]
  },
  {
   "cell_type": "code",
   "execution_count": 21,
   "metadata": {},
   "outputs": [],
   "source": [
    "os.rename('test','new_one')"
   ]
  },
  {
   "cell_type": "code",
   "execution_count": 22,
   "metadata": {},
   "outputs": [
    {
     "data": {
      "text/plain": [
       "['.anaconda',\n",
       " '.android',\n",
       " '.astropy',\n",
       " '.bash_history',\n",
       " '.btfs',\n",
       " '.conda',\n",
       " '.condarc',\n",
       " '.continuum',\n",
       " '.git',\n",
       " '.ipynb_checkpoints',\n",
       " '.ipython',\n",
       " '.jupyter',\n",
       " '.keras',\n",
       " '.matplotlib',\n",
       " '.spyder-py3',\n",
       " '1',\n",
       " '18 feb 2021.ipynb',\n",
       " '19 march numpii.ipynb',\n",
       " '2',\n",
       " '2 nd jan LR.ipynb',\n",
       " '3D Objects',\n",
       " '5_6177016201261089905.ipynb',\n",
       " '6 feb 2022.ipynb',\n",
       " '6. Fifa Dataset.ipynb',\n",
       " '8 th may.ipynb',\n",
       " 'AAAAA.ipynb',\n",
       " 'access.en-us',\n",
       " 'admin',\n",
       " 'AKSHAY - Shortcut.lnk',\n",
       " 'Akshay Chaskar unsupervised learning.ipynb',\n",
       " 'akshay first crelation program.ipynb',\n",
       " 'Amazon Review Classification.ipynb',\n",
       " 'amazonReview.csv',\n",
       " 'AppData',\n",
       " 'Application Data',\n",
       " 'archive (6).zip',\n",
       " 'athlete_events.csv',\n",
       " 'athlete_events.csv.zip',\n",
       " 'autoencoder_fraud.h5',\n",
       " 'autorun.inf',\n",
       " 'BA FINAL CODE',\n",
       " 'babies.xlsx',\n",
       " 'bank.csv',\n",
       " 'Basic of python_3_pandas.ipynb',\n",
       " 'Basics of Python_1.ipynb',\n",
       " 'Basics of python_2.ipynb',\n",
       " 'Basics....ipynb',\n",
       " 'BBBB.ipynb',\n",
       " 'beginner.ipynb',\n",
       " 'Book1.xlsx',\n",
       " 'Car Price (Linear Regression).ipynb',\n",
       " 'CarPrice_Assignment (1).csv',\n",
       " 'CarPrice_Assignment.csv',\n",
       " 'Car_Price_Prediction_Problem.ipynb',\n",
       " 'catalog',\n",
       " 'Catalogs.xlsx',\n",
       " 'chennai_reservoir_levels.csv',\n",
       " 'chennai_reservoir_rainfall.csv',\n",
       " 'Churn (ANN).ipynb',\n",
       " 'Churn_Modelling.csv',\n",
       " 'Cleaned_POS_Medical_Notes.csv',\n",
       " 'Clustering (1).docx',\n",
       " 'Codes',\n",
       " 'Contacts',\n",
       " 'Control Flow (Python).ipynb',\n",
       " 'Control Flow Practise Questions..-Copy1.ipynb',\n",
       " 'Control Flow Practise Questions...ipynb',\n",
       " 'Cookies',\n",
       " 'Covid 19 .ipynb',\n",
       " 'Covid 19 submission (1).ipynb',\n",
       " 'Covid 19 submission (2).ipynb',\n",
       " 'Covid 19 submission (3).ipynb',\n",
       " 'covid.csv',\n",
       " 'creditcard.csv',\n",
       " 'creditcard.csv.zip',\n",
       " 'credit_card.csv',\n",
       " 'Data',\n",
       " 'Data Science',\n",
       " 'Data Science.rar',\n",
       " 'Dataset',\n",
       " 'Dataset.zip',\n",
       " 'Datasets',\n",
       " 'Data_Dictionary.xlsx',\n",
       " 'dcf.en-us',\n",
       " 'Deck_BA.pdf',\n",
       " 'Deep Learning (Nettech)',\n",
       " 'Description.xlsx',\n",
       " 'Desktop',\n",
       " 'Documents',\n",
       " 'Download Free Software.url',\n",
       " 'Downloads',\n",
       " 'Dropbox',\n",
       " 'EDA -1(project)--v2.ipynb',\n",
       " 'ERROR HANDLING.ipynb',\n",
       " 'excel.en-us',\n",
       " 'Exercise 7-Pandas Basics.ipynb',\n",
       " 'Exploratory Data Analysis ppt.pptx',\n",
       " 'extract email from text.ipynb',\n",
       " 'Favorites',\n",
       " 'FIFA ranking prediction using linear regression..ipynb',\n",
       " 'FIFA_overall.ipynb',\n",
       " 'File Hnadling.ipynb',\n",
       " 'FOR LOOP.ipynb',\n",
       " 'Fpython Q-1assignment 1.ipynb',\n",
       " 'Fpython Q1-1.ipynb',\n",
       " 'Fpython Q1-2 (1).ipynb',\n",
       " 'Functions.ipynb',\n",
       " 'GL_Assignment_Online_Retail.xlsx',\n",
       " 'GRIDSEARCH and RANDOMIZESEARCHCV (1).ipynb',\n",
       " 'groove.en-us',\n",
       " 'HANDLING JSON DATA.ipynb',\n",
       " 'heart.csv',\n",
       " 'hotfixes',\n",
       " 'House Price Prediction.ipynb',\n",
       " 'ICU prediction for Covid patients.ipynb',\n",
       " 'igetintopc.com.jpg',\n",
       " 'Imarticus',\n",
       " 'IMDB Dataset.csv',\n",
       " 'IMDB dataset.ipynb',\n",
       " 'IMDB Movies Case Study.ipynb',\n",
       " 'IMDB_Movies.csv',\n",
       " 'Infinite Practice.ipynb',\n",
       " 'infopath.en-us',\n",
       " 'IntelGraphicsProfiles',\n",
       " 'Introduction to Pandas.ipynb',\n",
       " 'IPL Auction 2022.ipynb',\n",
       " 'IPL2022PlayerAuction_List_Sets-converted.xlsx',\n",
       " 'iqr.txt',\n",
       " 'Iris.csv',\n",
       " 'Just Practice!!!!!.ipynb',\n",
       " 'K means clustering.ipynb',\n",
       " 'K Nearest Neighbors (1).ipynb',\n",
       " 'k-MEANS CLUSTERING.ipynb',\n",
       " 'K-Means Wholesale Data.ipynb',\n",
       " 'Keywords in Python.ipynb',\n",
       " 'kiran.ipynb',\n",
       " 'kkn.txt',\n",
       " 'Linear Regression.txt',\n",
       " 'Links',\n",
       " 'links_small.csv',\n",
       " 'loan.csv',\n",
       " 'Local Settings',\n",
       " 'Logistic Regression - Case Study.ipynb',\n",
       " 'Logistic Regression and Classification Metrics (1).ipynb',\n",
       " 'Logistic Regression and Classification Metrics.ipynb',\n",
       " 'Logistic Regression SMOTE.ipynb',\n",
       " 'logs',\n",
       " 'lync.en-us',\n",
       " 'Machine Learning (Nettech)',\n",
       " 'Machine Learning Exam Paper 1',\n",
       " 'Machine Learning using Python Exam - Paper 1.pdf',\n",
       " 'Machine Learning using Python Exam -Paper 2.pdf',\n",
       " 'MachineLearningExamPaper1withdataset.zip',\n",
       " 'Mall_Customers (1).csv',\n",
       " 'Mall_Customers.csv',\n",
       " 'MicrosoftEdgeBackups',\n",
       " 'ML_Exam_Paper_1_Akshay_Chaskar.ipynb',\n",
       " 'ML_Exam_Paper_1_Karthik_Konar.ipynb',\n",
       " 'MonthWiseMarketArrivals_Clean (1).csv',\n",
       " 'MonthWiseMarketArrivals_Clean.csv',\n",
       " 'MORPHOLOGICAL ANALYSIS.ipynb',\n",
       " 'movies_metadata.csv',\n",
       " 'ms123',\n",
       " 'Music',\n",
       " 'My Documents',\n",
       " 'N-GRAM MODEL.ipynb',\n",
       " 'Natural Language Processing (NLP) with Python — Tutorial.docx',\n",
       " 'Netech Day 4.ipynb',\n",
       " 'NetflixOriginals.csv',\n",
       " 'NetHood',\n",
       " 'Nettech  (Day2)-Copy1.ipynb',\n",
       " 'Nettech  (Day2).ipynb',\n",
       " 'Nettech (Day1)-Copy1.ipynb',\n",
       " 'Nettech (Day1).ipynb',\n",
       " 'Nettech (Day3)-Copy1.ipynb',\n",
       " 'Nettech (Day3).ipynb',\n",
       " 'new_one',\n",
       " 'NLP PRACTICALS',\n",
       " 'NLP PRACTICALS.rar',\n",
       " 'NLP-overview.pdf',\n",
       " 'noc_regions.csv',\n",
       " 'Novel - Moby-Dick By Herman Melville.txt',\n",
       " 'NTUSER.DAT',\n",
       " 'ntuser.dat.LOG1',\n",
       " 'ntuser.dat.LOG2',\n",
       " 'NTUSER.DAT{c082ccce-d5f7-11ec-af26-a9245c1b9525}.TM.blf',\n",
       " 'NTUSER.DAT{c082ccce-d5f7-11ec-af26-a9245c1b9525}.TMContainer00000000000000000001.regtrans-ms',\n",
       " 'NTUSER.DAT{c082ccce-d5f7-11ec-af26-a9245c1b9525}.TMContainer00000000000000000002.regtrans-ms',\n",
       " 'ntuser.ini',\n",
       " 'Numpy.ipynb',\n",
       " 'office.en-us',\n",
       " 'office32.en-us',\n",
       " 'Olympic  Dataset Analysis.ipynb',\n",
       " 'OneDrive',\n",
       " 'onenote.en-us',\n",
       " 'OOPS.ipynb',\n",
       " 'osm.en-us',\n",
       " 'osmux.en-us',\n",
       " 'outlook.en-us',\n",
       " 'pandas practise .html',\n",
       " 'Pandas.ipynb',\n",
       " 'PCA Use Case.ipynb',\n",
       " 'PGAA 1&2 KMeans Refresher.ipynb',\n",
       " 'PGAA LECT 2(PYTHON).ipynb',\n",
       " 'PGAA1- Kmeans Clustering.ipynb',\n",
       " 'Pictures',\n",
       " 'playerdata.csv',\n",
       " 'Player_LinearModelPractice.ipynb',\n",
       " 'powerpoint.en-us',\n",
       " 'PREPROCESSING OF TEXT.ipynb',\n",
       " 'PRETTY PRINT PROGRAM.ipynb',\n",
       " 'PrintHood',\n",
       " 'problem 2_insulgas.ipynb',\n",
       " 'proofing.en-us',\n",
       " 'proplus.ww',\n",
       " 'PRSA_data_2010.1.1-2014.12.31.csv',\n",
       " 'publisher.en-us',\n",
       " 'Pushkar Khedkar unsupervised learning.ipynb',\n",
       " 'python assignment 1(Akshay).ipynb',\n",
       " 'python begining.ipynb',\n",
       " 'Python NLTK Tutorial 1.pdf',\n",
       " 'Python Practice....ipynb',\n",
       " 'Python Practice...ipynb',\n",
       " 'Python Progamming (1).pdf',\n",
       " 'Python Programs',\n",
       " 'python-data-structures-01-DICT.ipynb',\n",
       " 'python-data-structures-02-LIST.ipynb',\n",
       " 'python-data-structures-03-SETS.ipynb',\n",
       " 'python-data-structures-04-STRINGS.ipynb',\n",
       " 'python-data-structures-05-TUPLES.ipynb',\n",
       " 'Python.txt',\n",
       " 'Python1.txt',\n",
       " 'ratings_small.csv',\n",
       " 'readme.htm',\n",
       " 'Read_Me_Important.txt',\n",
       " 'Recent',\n",
       " 'reffmaterial.zip',\n",
       " 'Regularization in Linear Regression (2).ipynb',\n",
       " 'REMOVE STOPWORDS.ipynb',\n",
       " 'Request Your Applications here.url',\n",
       " 'results.zip',\n",
       " 'Salary_Data.csv',\n",
       " 'Saved Games',\n",
       " 'SEABORN .ipynb',\n",
       " 'SEABORN TUTORIAL.ipynb',\n",
       " 'seaborn-data',\n",
       " 'Searches',\n",
       " 'SendTo',\n",
       " 'setup.dll',\n",
       " 'setup.exe',\n",
       " 'Sheet Merging.ipynb',\n",
       " 'SL-PDS-DEC8JAN12-STRINGS-LISTS-TUPLES-DICTIONARIES-SETS.ipynb',\n",
       " 'Stanford Police Data.ipynb',\n",
       " 'Start Menu',\n",
       " 'Stock 19-2-22.ipynb',\n",
       " 'stock_prediction.h5',\n",
       " 'Stock_Price_Prediction_AAPL_data.csv',\n",
       " 'String  Operations.ipynb',\n",
       " 'svm_classification.ipynb',\n",
       " 'SVM_Classification_Regression-main.zip',\n",
       " 'svr_regression.ipynb',\n",
       " 'TANVI_TIMESERIES(ML2).ipynb',\n",
       " 'Templates',\n",
       " 'Test.png',\n",
       " 'test_bqCt9Pv.csv',\n",
       " 'The Android App Market on Google Play.ipynb',\n",
       " 'Time Series Exam Solution.ipynb',\n",
       " 'Time Series Model (Akshay Chaskar).ipynb',\n",
       " 'TOKENIZATION.ipynb',\n",
       " 'Top 20 functions of pandas.ipynb',\n",
       " 'train.csv',\n",
       " 'training_tokenizer.txt',\n",
       " 'Unsupervised Learning Exam Solution.ipynb',\n",
       " 'Untitled.ipynb',\n",
       " 'Untitled1.ipynb',\n",
       " 'Untitled1.py',\n",
       " 'Untitled10.ipynb',\n",
       " 'Untitled11.ipynb',\n",
       " 'Untitled12.ipynb',\n",
       " 'Untitled13.ipynb',\n",
       " 'Untitled2.ipynb',\n",
       " 'Untitled3.ipynb',\n",
       " 'Untitled4.ipynb',\n",
       " 'Untitled5.ipynb',\n",
       " 'Untitled6.ipynb',\n",
       " 'Untitled7.ipynb',\n",
       " 'Untitled8.ipynb',\n",
       " 'Untitled9.ipynb',\n",
       " 'updates',\n",
       " 'UPPER_LOWER CASE PROGRAM.ipynb',\n",
       " 'Vehicle Loan Classification (1).ipynb',\n",
       " 'Vehicle Loan Sir.ipynb',\n",
       " 'Vehicle_classification .ipynb',\n",
       " 'Videos',\n",
       " 'vik.py',\n",
       " 'Webscraping.ipynb',\n",
       " 'word.en-us',\n",
       " 'zoom_0 (1).mp4',\n",
       " '[CourseClub.ME] AppliedAICourse - Applied Machine Learning Course',\n",
       " '_igetintopc.com_fix',\n",
       " '_PANDAS_🐼_1586896031.pdf',\n",
       " '__notebook_source__.ipynb',\n",
       " '__results___files']"
      ]
     },
     "execution_count": 22,
     "metadata": {},
     "output_type": "execute_result"
    }
   ],
   "source": [
    "os.listdir()"
   ]
  },
  {
   "cell_type": "code",
   "execution_count": 16,
   "metadata": {},
   "outputs": [],
   "source": [
    "os.rmdir('new_one')#remove only empty directories"
   ]
  },
  {
   "cell_type": "code",
   "execution_count": 18,
   "metadata": {},
   "outputs": [],
   "source": [
    "os.chdir('D:\\\\')"
   ]
  },
  {
   "cell_type": "code",
   "execution_count": 17,
   "metadata": {},
   "outputs": [
    {
     "data": {
      "text/plain": [
       "['$RECYCLE.BIN',\n",
       " 'ANACONDA',\n",
       " 'ASIM TRIVEDI AUDIT',\n",
       " 'Audit',\n",
       " 'd bk up',\n",
       " 'DumpStack.log.tmp',\n",
       " 'Financial reporting',\n",
       " 'hp',\n",
       " 'Intel',\n",
       " 'khoth siddhesh',\n",
       " 'law',\n",
       " 'NetTech India',\n",
       " 'New Folder',\n",
       " 'open cv',\n",
       " 'ORACLE',\n",
       " 'OS module.py',\n",
       " 'Python ML Notes',\n",
       " 'Rahul malkan',\n",
       " 'Sanvee',\n",
       " 'SFM_Sarraf',\n",
       " 'System Volume Information',\n",
       " 'Users']"
      ]
     },
     "execution_count": 17,
     "metadata": {},
     "output_type": "execute_result"
    }
   ],
   "source": [
    "os.listdir()"
   ]
  },
  {
   "cell_type": "code",
   "execution_count": 19,
   "metadata": {},
   "outputs": [],
   "source": [
    "os.remove('OS module.py')"
   ]
  },
  {
   "cell_type": "code",
   "execution_count": 20,
   "metadata": {},
   "outputs": [
    {
     "data": {
      "text/plain": [
       "['$RECYCLE.BIN',\n",
       " 'ANACONDA',\n",
       " 'ASIM TRIVEDI AUDIT',\n",
       " 'Audit',\n",
       " 'd bk up',\n",
       " 'DumpStack.log.tmp',\n",
       " 'Financial reporting',\n",
       " 'hp',\n",
       " 'Intel',\n",
       " 'khoth siddhesh',\n",
       " 'law',\n",
       " 'NetTech India',\n",
       " 'New Folder',\n",
       " 'open cv',\n",
       " 'ORACLE',\n",
       " 'Python ML Notes',\n",
       " 'Rahul malkan',\n",
       " 'Sanvee',\n",
       " 'SFM_Sarraf',\n",
       " 'System Volume Information',\n",
       " 'Users']"
      ]
     },
     "execution_count": 20,
     "metadata": {},
     "output_type": "execute_result"
    }
   ],
   "source": [
    "os.listdir()"
   ]
  },
  {
   "cell_type": "markdown",
   "metadata": {},
   "source": [
    "Python Module Search Path : \n",
    "\n",
    "While importing a module, Python looks at several places. Interpreter first looks for a built-in module. Then(if built-in module not found), Python looks into a list of directories defined in sys.path. The search is in this order.\n",
    "\n",
    "The current directory.\n",
    "\n",
    "PYTHONPATH (an environment variable with a list of directories).\n",
    "\n",
    "The installation-dependent default directory."
   ]
  },
  {
   "cell_type": "code",
   "execution_count": 21,
   "metadata": {},
   "outputs": [],
   "source": [
    "import sys "
   ]
  },
  {
   "cell_type": "code",
   "execution_count": 22,
   "metadata": {},
   "outputs": [
    {
     "data": {
      "text/plain": [
       "['C:\\\\Users\\\\hp\\\\Downloads',\n",
       " 'D:\\\\ANACONDA\\\\python38.zip',\n",
       " 'D:\\\\ANACONDA\\\\DLLs',\n",
       " 'D:\\\\ANACONDA\\\\lib',\n",
       " 'D:\\\\ANACONDA',\n",
       " '',\n",
       " 'D:\\\\ANACONDA\\\\lib\\\\site-packages',\n",
       " 'D:\\\\ANACONDA\\\\lib\\\\site-packages\\\\win32',\n",
       " 'D:\\\\ANACONDA\\\\lib\\\\site-packages\\\\win32\\\\lib',\n",
       " 'D:\\\\ANACONDA\\\\lib\\\\site-packages\\\\Pythonwin',\n",
       " 'D:\\\\ANACONDA\\\\lib\\\\site-packages\\\\IPython\\\\extensions',\n",
       " 'C:\\\\Users\\\\hp\\\\.ipython']"
      ]
     },
     "execution_count": 22,
     "metadata": {},
     "output_type": "execute_result"
    }
   ],
   "source": [
    "sys.path"
   ]
  },
  {
   "cell_type": "markdown",
   "metadata": {},
   "source": []
  }
 ],
 "metadata": {
  "kernelspec": {
   "display_name": "Python 3 (ipykernel)",
   "language": "python",
   "name": "python3"
  },
  "language_info": {
   "codemirror_mode": {
    "name": "ipython",
    "version": 3
   },
   "file_extension": ".py",
   "mimetype": "text/x-python",
   "name": "python",
   "nbconvert_exporter": "python",
   "pygments_lexer": "ipython3",
   "version": "3.9.12"
  }
 },
 "nbformat": 4,
 "nbformat_minor": 4
}
